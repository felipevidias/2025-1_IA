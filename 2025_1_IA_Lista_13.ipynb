{
  "nbformat": 4,
  "nbformat_minor": 0,
  "metadata": {
    "colab": {
      "provenance": [],
      "toc_visible": true
    },
    "kernelspec": {
      "name": "python3",
      "display_name": "Python 3"
    },
    "language_info": {
      "name": "python"
    }
  },
  "cells": [
    {
      "cell_type": "code",
      "execution_count": 4,
      "metadata": {
        "colab": {
          "base_uri": "https://localhost:8080/"
        },
        "id": "4aicKwjhMU-C",
        "outputId": "08d473b7-29c5-43af-9650-a34fcee9980d"
      },
      "outputs": [
        {
          "output_type": "stream",
          "name": "stdout",
          "text": [
            "Requirement already satisfied: scikit-multilearn in /usr/local/lib/python3.11/dist-packages (0.2.0)\n",
            "Requirement already satisfied: liac-arff in /usr/local/lib/python3.11/dist-packages (2.5.0)\n",
            "yeast:undivided - exists, not redownloading\n",
            "Características (X): (2417, 103)\n",
            "Rótulos (y): (2417, 14)\n",
            "Labels: [('Class1', ['0', '1']), ('Class2', ['0', '1']), ('Class3', ['0', '1']), ('Class4', ['0', '1']), ('Class5', ['0', '1']), ('Class6', ['0', '1']), ('Class7', ['0', '1']), ('Class8', ['0', '1']), ('Class9', ['0', '1']), ('Class10', ['0', '1']), ('Class11', ['0', '1']), ('Class12', ['0', '1']), ('Class13', ['0', '1']), ('Class14', ['0', '1'])]\n",
            "\n",
            "Relatório de Classificação (métricas por rótulo):\n",
            "\n",
            "              precision    recall  f1-score   support\n",
            "\n",
            "      Class1       0.64      0.62      0.63       167\n",
            "      Class2       0.54      0.69      0.61       211\n",
            "      Class3       0.58      0.67      0.62       196\n",
            "      Class4       0.60      0.57      0.58       171\n",
            "      Class5       0.53      0.53      0.53       144\n",
            "      Class6       0.41      0.58      0.48       127\n",
            "      Class7       0.28      0.66      0.40        76\n",
            "      Class8       0.27      0.64      0.37        83\n",
            "      Class9       0.07      0.30      0.11        30\n",
            "     Class10       0.16      0.35      0.22        55\n",
            "     Class11       0.16      0.29      0.20        62\n",
            "     Class12       0.84      0.63      0.72       366\n",
            "     Class13       0.84      0.62      0.72       365\n",
            "     Class14       0.02      0.14      0.04         7\n",
            "\n",
            "   micro avg       0.50      0.60      0.55      2060\n",
            "   macro avg       0.42      0.52      0.45      2060\n",
            "weighted avg       0.60      0.60      0.59      2060\n",
            " samples avg       0.53      0.62      0.54      2060\n",
            "\n"
          ]
        },
        {
          "output_type": "stream",
          "name": "stderr",
          "text": [
            "/usr/local/lib/python3.11/dist-packages/sklearn/metrics/_classification.py:1565: UndefinedMetricWarning: Precision is ill-defined and being set to 0.0 in samples with no predicted labels. Use `zero_division` parameter to control this behavior.\n",
            "  _warn_prf(average, modifier, f\"{metric.capitalize()} is\", len(result))\n"
          ]
        }
      ],
      "source": [
        "# questao1_multilabel.py\n",
        "!pip install scikit-multilearn\n",
        "!pip install liac-arff\n",
        "from skmultilearn.dataset import load_dataset\n",
        "from skmultilearn.problem_transform import BinaryRelevance\n",
        "from sklearn.naive_bayes import GaussianNB\n",
        "from sklearn.model_selection import train_test_split\n",
        "from sklearn.metrics import classification_report\n",
        "\n",
        "# 1. Carregar a base multirrótulo 'yeast'\n",
        "X, y, feature_names, label_names = load_dataset(\"yeast\", \"undivided\")\n",
        "print(f\"Características (X): {X.shape}\")\n",
        "print(f\"Rótulos (y): {y.shape}\")\n",
        "print(\"Labels:\", label_names)\n",
        "\n",
        "# 2. Dividir treino/teste\n",
        "X_train, X_test, y_train, y_test = train_test_split(X, y, test_size=0.2, random_state=42)\n",
        "\n",
        "# 3. Classificador multirrótulo com Binary Relevance\n",
        "classifier = BinaryRelevance(classifier=GaussianNB())\n",
        "classifier.fit(X_train.toarray(), y_train.toarray())\n",
        "\n",
        "# 4. Prever\n",
        "y_pred = classifier.predict(X_test.toarray())\n",
        "\n",
        "# 5. Avaliar (corrigido)\n",
        "class_names = [label[0] for label in label_names]\n",
        "print(\"\\nRelatório de Classificação (métricas por rótulo):\\n\")\n",
        "print(classification_report(y_test, y_pred, target_names=class_names))\n"
      ]
    }
  ]
}