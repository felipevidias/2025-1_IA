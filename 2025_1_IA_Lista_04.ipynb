{
  "nbformat": 4,
  "nbformat_minor": 0,
  "metadata": {
    "colab": {
      "provenance": []
    },
    "kernelspec": {
      "name": "python3",
      "display_name": "Python 3"
    },
    "language_info": {
      "name": "python"
    }
  },
  "cells": [
    {
      "cell_type": "code",
      "execution_count": 7,
      "metadata": {
        "id": "jUQfvqE7i0Qu"
      },
      "outputs": [],
      "source": [
        "import pandas as pd\n",
        "import numpy as np\n",
        "from sklearn.ensemble import RandomForestClassifier\n",
        "from sklearn.tree import DecisionTreeClassifier\n",
        "from skopt import BayesSearchCV\n",
        "from sklearn.metrics import accuracy_score, precision_score, recall_score, f1_score\n",
        "from sklearn.model_selection import train_test_split\n",
        "from imblearn.over_sampling import SMOTE, ADASYN\n",
        "from imblearn.under_sampling import TomekLinks, RandomUnderSampler\n",
        "from sklearn.impute import SimpleImputer\n",
        "from sklearn.impute import KNNImputer"
      ]
    },
    {
      "cell_type": "code",
      "source": [
        "# Carregando a base Titanic\n",
        "df = pd.read_csv(\"https://raw.githubusercontent.com/datasciencedojo/datasets/master/titanic.csv\")\n"
      ],
      "metadata": {
        "id": "wcoNjpAmkNMo"
      },
      "execution_count": 8,
      "outputs": []
    },
    {
      "cell_type": "code",
      "source": [
        "# Tratamento inicial dos dados\n",
        "df = df[['Survived', 'Pclass', 'Sex', 'Age', 'Fare', 'Embarked']]\n",
        "df.dropna(subset=['Embarked'], inplace=True)\n",
        "df['Sex'] = df['Sex'].map({'male': 0, 'female': 1})\n",
        "df['Embarked'] = df['Embarked'].map({'C': 0, 'Q': 1, 'S': 2})\n",
        "\n",
        "# Separando features e labels\n",
        "X = df.drop(columns=['Survived'])\n",
        "y = df['Survived']"
      ],
      "metadata": {
        "colab": {
          "base_uri": "https://localhost:8080/"
        },
        "id": "oD3vlycZkQNg",
        "outputId": "d14c2783-5b41-40be-c703-99f062dfbc9e"
      },
      "execution_count": 9,
      "outputs": [
        {
          "output_type": "stream",
          "name": "stderr",
          "text": [
            "<ipython-input-9-671bc728efff>:3: SettingWithCopyWarning: \n",
            "A value is trying to be set on a copy of a slice from a DataFrame\n",
            "\n",
            "See the caveats in the documentation: https://pandas.pydata.org/pandas-docs/stable/user_guide/indexing.html#returning-a-view-versus-a-copy\n",
            "  df.dropna(subset=['Embarked'], inplace=True)\n",
            "<ipython-input-9-671bc728efff>:4: SettingWithCopyWarning: \n",
            "A value is trying to be set on a copy of a slice from a DataFrame.\n",
            "Try using .loc[row_indexer,col_indexer] = value instead\n",
            "\n",
            "See the caveats in the documentation: https://pandas.pydata.org/pandas-docs/stable/user_guide/indexing.html#returning-a-view-versus-a-copy\n",
            "  df['Sex'] = df['Sex'].map({'male': 0, 'female': 1})\n",
            "<ipython-input-9-671bc728efff>:5: SettingWithCopyWarning: \n",
            "A value is trying to be set on a copy of a slice from a DataFrame.\n",
            "Try using .loc[row_indexer,col_indexer] = value instead\n",
            "\n",
            "See the caveats in the documentation: https://pandas.pydata.org/pandas-docs/stable/user_guide/indexing.html#returning-a-view-versus-a-copy\n",
            "  df['Embarked'] = df['Embarked'].map({'C': 0, 'Q': 1, 'S': 2})\n"
          ]
        }
      ]
    },
    {
      "cell_type": "code",
      "source": [
        "# Divisão treino/teste\n",
        "X_train, X_test, y_train, y_test = train_test_split(X, y, test_size=0.2, random_state=42)"
      ],
      "metadata": {
        "id": "X5LOqwSjkUVb"
      },
      "execution_count": 10,
      "outputs": []
    },
    {
      "cell_type": "markdown",
      "source": [
        "### QUESTÃO 1: OTIMIZAÇÃO DE HIPERPARÂMETROS"
      ],
      "metadata": {
        "id": "OYSGANtRkXUV"
      }
    },
    {
      "cell_type": "code",
      "source": [
        "param_grid_rf = {'n_estimators': (10, 200), 'max_depth': (1, 20)}\n",
        "param_grid_dt = {'max_depth': (1, 20), 'min_samples_split': (2, 10)}\n",
        "\n",
        "rf_search = BayesSearchCV(RandomForestClassifier(), param_grid_rf, n_iter=30, cv=5)\n",
        "dt_search = BayesSearchCV(DecisionTreeClassifier(), param_grid_dt, n_iter=30, cv=5)\n",
        "\n",
        "rf_search.fit(X_train, y_train)\n",
        "dt_search.fit(X_train, y_train)\n",
        "\n",
        "# Melhores modelos\n",
        "rf_best = rf_search.best_estimator_\n",
        "dt_best = dt_search.best_estimator_\n",
        "\n",
        "# Avaliação\n",
        "y_pred_rf = rf_best.predict(X_test)\n",
        "y_pred_dt = dt_best.predict(X_test)\n",
        "\n",
        "print(\"Random Forest - Acurácia:\", accuracy_score(y_test, y_pred_rf))\n",
        "print(\"Árvore de Decisão - Acurácia:\", accuracy_score(y_test, y_pred_dt))"
      ],
      "metadata": {
        "colab": {
          "base_uri": "https://localhost:8080/"
        },
        "id": "3Hy9bGYMkZ-y",
        "outputId": "08a5cb82-bd69-48ef-920d-a8d7d884346f"
      },
      "execution_count": 12,
      "outputs": [
        {
          "output_type": "stream",
          "name": "stderr",
          "text": [
            "/usr/local/lib/python3.11/dist-packages/skopt/optimizer/optimizer.py:517: UserWarning: The objective has been evaluated at point [np.int64(20), np.int64(10)] before, using random point [np.int64(3), np.int64(7)]\n",
            "  warnings.warn(\n",
            "/usr/local/lib/python3.11/dist-packages/skopt/optimizer/optimizer.py:517: UserWarning: The objective has been evaluated at point [np.int64(3), np.int64(5)] before, using random point [np.int64(16), np.int64(3)]\n",
            "  warnings.warn(\n"
          ]
        },
        {
          "output_type": "stream",
          "name": "stdout",
          "text": [
            "Random Forest - Acurácia: 0.8258426966292135\n",
            "Árvore de Decisão - Acurácia: 0.8202247191011236\n"
          ]
        }
      ]
    },
    {
      "cell_type": "markdown",
      "source": [
        "### QUESTÃO 2: BALANCEAMENTO DE DADOS"
      ],
      "metadata": {
        "id": "f8momLysk7Qb"
      }
    },
    {
      "cell_type": "code",
      "source": [
        "# Imputação de valores ausentes antes de aplicar SMOTE\n",
        "imp_mean = SimpleImputer(strategy='mean')\n",
        "X_train_imputed = imp_mean.fit_transform(X_train)\n",
        "\n",
        "# SMOTE\n",
        "smote = SMOTE()\n",
        "X_res, y_res = smote.fit_resample(X_train_imputed, y_train)\n",
        "\n",
        "# TomekLinks\n",
        "tomek = TomekLinks()\n",
        "X_res_tl, y_res_tl = tomek.fit_resample(X_train_imputed, y_train)\n",
        "\n",
        "# RandomUnderSampler\n",
        "under = RandomUnderSampler()\n",
        "X_res_under, y_res_under = under.fit_resample(X_train_imputed, y_train)\n",
        "\n",
        "# ADASYN (Substituto para DSTO-GAN)\n",
        "adasyn = ADASYN()\n",
        "X_res_adasyn, y_res_adasyn = adasyn.fit_resample(X_train_imputed, y_train)\n",
        "\n",
        "# Avaliação com modelos balanceados\n",
        "for name, X_bal, y_bal in zip([\"SMOTE\", \"TomekLinks\", \"RandomUnderSampler\", \"ADASYN\"],\n",
        "                               [X_res, X_res_tl, X_res_under, X_res_adasyn],\n",
        "                               [y_res, y_res_tl, y_res_under, y_res_adasyn]):\n",
        "    model = RandomForestClassifier().fit(X_bal, y_bal)\n",
        "    y_pred = model.predict(X_test)\n",
        "    print(f\"{name} - Precisão:\", precision_score(y_test, y_pred))\n",
        "    print(f\"{name} - Recall:\", recall_score(y_test, y_pred))\n",
        "    print(f\"{name} - F1-Score:\", f1_score(y_test, y_pred))"
      ],
      "metadata": {
        "colab": {
          "base_uri": "https://localhost:8080/"
        },
        "id": "vf1f1gPXk-zA",
        "outputId": "767c0062-bfac-462d-b812-1be9f8499bfc"
      },
      "execution_count": 14,
      "outputs": [
        {
          "output_type": "stream",
          "name": "stderr",
          "text": [
            "/usr/local/lib/python3.11/dist-packages/sklearn/utils/validation.py:2732: UserWarning: X has feature names, but RandomForestClassifier was fitted without feature names\n",
            "  warnings.warn(\n"
          ]
        },
        {
          "output_type": "stream",
          "name": "stdout",
          "text": [
            "SMOTE - Precisão: 0.75\n",
            "SMOTE - Recall: 0.8260869565217391\n",
            "SMOTE - F1-Score: 0.7862068965517242\n"
          ]
        },
        {
          "output_type": "stream",
          "name": "stderr",
          "text": [
            "/usr/local/lib/python3.11/dist-packages/sklearn/utils/validation.py:2732: UserWarning: X has feature names, but RandomForestClassifier was fitted without feature names\n",
            "  warnings.warn(\n"
          ]
        },
        {
          "output_type": "stream",
          "name": "stdout",
          "text": [
            "TomekLinks - Precisão: 0.7307692307692307\n",
            "TomekLinks - Recall: 0.8260869565217391\n",
            "TomekLinks - F1-Score: 0.7755102040816326\n"
          ]
        },
        {
          "output_type": "stream",
          "name": "stderr",
          "text": [
            "/usr/local/lib/python3.11/dist-packages/sklearn/utils/validation.py:2732: UserWarning: X has feature names, but RandomForestClassifier was fitted without feature names\n",
            "  warnings.warn(\n"
          ]
        },
        {
          "output_type": "stream",
          "name": "stdout",
          "text": [
            "RandomUnderSampler - Precisão: 0.6741573033707865\n",
            "RandomUnderSampler - Recall: 0.8695652173913043\n",
            "RandomUnderSampler - F1-Score: 0.759493670886076\n",
            "ADASYN - Precisão: 0.7402597402597403\n",
            "ADASYN - Recall: 0.8260869565217391\n",
            "ADASYN - F1-Score: 0.7808219178082192\n"
          ]
        },
        {
          "output_type": "stream",
          "name": "stderr",
          "text": [
            "/usr/local/lib/python3.11/dist-packages/sklearn/utils/validation.py:2732: UserWarning: X has feature names, but RandomForestClassifier was fitted without feature names\n",
            "  warnings.warn(\n"
          ]
        }
      ]
    },
    {
      "cell_type": "markdown",
      "source": [
        "### QUESTÃO 3: IMPUTAÇÃO DE DADOS AUSENTES"
      ],
      "metadata": {
        "id": "SabrEYqQlVsi"
      }
    },
    {
      "cell_type": "code",
      "source": [
        "# Criando dados com valores ausentes para simulação\n",
        "X_missing = X.copy()\n",
        "X_missing.loc[np.random.randint(0, X.shape[0], 20), 'Age'] = np.nan\n",
        "\n",
        "# Imputação por Média\n",
        "imp_mean = SimpleImputer(strategy='mean')\n",
        "X_imputed_mean = imp_mean.fit_transform(X_missing)\n",
        "\n",
        "# Imputação por Moda\n",
        "imp_mode = SimpleImputer(strategy='most_frequent')\n",
        "X_imputed_mode = imp_mode.fit_transform(X_missing)\n",
        "\n",
        "# Imputação por KNN\n",
        "imp_knn = KNNImputer(n_neighbors=3)\n",
        "X_imputed_knn = imp_knn.fit_transform(X_missing)\n",
        "\n",
        "# Avaliação\n",
        "models = {\n",
        "    \"Média\": X_imputed_mean,\n",
        "    \"Moda\": X_imputed_mode,\n",
        "    \"KNN\": X_imputed_knn\n",
        "}\n",
        "\n",
        "for name, X_imp in models.items():\n",
        "    model = RandomForestClassifier().fit(X_imp, y)\n",
        "    y_pred = model.predict(X_test)\n",
        "    print(f\"{name} - Acurácia:\", accuracy_score(y_test, y_pred))"
      ],
      "metadata": {
        "colab": {
          "base_uri": "https://localhost:8080/"
        },
        "id": "hSO5xAOOlYfx",
        "outputId": "10466f93-653e-48d3-8f47-5761e374a825"
      },
      "execution_count": 15,
      "outputs": [
        {
          "output_type": "stream",
          "name": "stderr",
          "text": [
            "/usr/local/lib/python3.11/dist-packages/sklearn/utils/validation.py:2732: UserWarning: X has feature names, but RandomForestClassifier was fitted without feature names\n",
            "  warnings.warn(\n"
          ]
        },
        {
          "output_type": "stream",
          "name": "stdout",
          "text": [
            "Média - Acurácia: 0.9775280898876404\n"
          ]
        },
        {
          "output_type": "stream",
          "name": "stderr",
          "text": [
            "/usr/local/lib/python3.11/dist-packages/sklearn/utils/validation.py:2732: UserWarning: X has feature names, but RandomForestClassifier was fitted without feature names\n",
            "  warnings.warn(\n"
          ]
        },
        {
          "output_type": "stream",
          "name": "stdout",
          "text": [
            "Moda - Acurácia: 0.9719101123595506\n",
            "KNN - Acurácia: 0.9719101123595506\n"
          ]
        },
        {
          "output_type": "stream",
          "name": "stderr",
          "text": [
            "/usr/local/lib/python3.11/dist-packages/sklearn/utils/validation.py:2732: UserWarning: X has feature names, but RandomForestClassifier was fitted without feature names\n",
            "  warnings.warn(\n"
          ]
        }
      ]
    }
  ]
}